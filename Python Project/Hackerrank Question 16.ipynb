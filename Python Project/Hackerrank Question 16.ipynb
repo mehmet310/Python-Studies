{
  "metadata": {
    "language_info": {
      "codemirror_mode": {
        "name": "python",
        "version": 3
      },
      "file_extension": ".py",
      "mimetype": "text/x-python",
      "name": "python",
      "nbconvert_exporter": "python",
      "pygments_lexer": "ipython3",
      "version": "3.8"
    },
    "kernelspec": {
      "name": "python",
      "display_name": "Python (Pyodide)",
      "language": "python"
    }
  },
  "nbformat_minor": 4,
  "nbformat": 4,
  "cells": [
    {
      "cell_type": "markdown",
      "source": "- Question-16\n<br>\nmin\n\nThe tool min returns the minimum value along a given axis.\n\n<br>\nimport numpy\n\nmy_array = numpy.array([[2, 5], \n                        [3, 7],\n                        [1, 3],\n                        [4, 0]])\n\nprint numpy.min(my_array, axis = 0)         #Output : [1 0]\nprint numpy.min(my_array, axis = 1)         #Output : [2 3 1 0]\nprint numpy.min(my_array, axis = None)      #Output : 0\nprint numpy.min(my_array)                   #Output : 0\nBy default, the axis value is None. Therefore, it finds the minimum over all the dimensions of the input array.\n\nmax\n\nThe tool max returns the maximum value along a given axis.\n\nimport numpy\n\nmy_array = numpy.array([[2, 5], \n                        [3, 7],\n                        [1, 3],\n                        [4, 0]])\n\nprint numpy.max(my_array, axis = 0)         #Output : [4 7]\nprint numpy.max(my_array, axis = 1)         #Output : [5 7 3 4]\nprint numpy.max(my_array, axis = None)      #Output : 7\nprint numpy.max(my_array)                   #Output : 7\nBy default, the axis value is None. Therefore, it finds the maximum over all the dimensions of the input array.\n\nTask\n\nYou are given a 2-D array with dimensions X.\nYour task is to perform the min function over axis  and then find the max of that.\n\nInput Format\n\nThe first line of input contains the space separated values of  and .\nThe next  lines contains  space separated integers.\n\nOutput Format\n\nCompute the min along axis  and then print the max of that result.\n\nSample Input\n\n4 2\n2 5\n3 7\n1 3\n4 0\nSample Output\n\n3\n\n\n",
      "metadata": {}
    },
    {
      "cell_type": "code",
      "source": "import numpy as np\n\n\nn,m = input().split()\nl= []\nfor i in range(int(n)):\n    l.append(input().split())\narr = np.array(l,dtype = int)\nmax_num = np.min(arr,axis = 1)\nprint(np.max(max_num))",
      "metadata": {},
      "execution_count": null,
      "outputs": []
    }
  ]
}