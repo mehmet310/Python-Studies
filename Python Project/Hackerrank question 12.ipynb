{
  "metadata": {
    "language_info": {
      "codemirror_mode": {
        "name": "python",
        "version": 3
      },
      "file_extension": ".py",
      "mimetype": "text/x-python",
      "name": "python",
      "nbconvert_exporter": "python",
      "pygments_lexer": "ipython3",
      "version": "3.8"
    },
    "kernelspec": {
      "name": "python",
      "display_name": "Python (Pyodide)",
      "language": "python"
    }
  },
  "nbformat_minor": 4,
  "nbformat": 4,
  "cells": [
    {
      "cell_type": "markdown",
      "source": "- Question 13\n<br>\nLet's use decorators to build a name directory! You are given some information about  people. Each person has a first name, last name, age and sex. Print their names in a specific format sorted by their age in ascending order i.e. the youngest person's name should be printed first. For two people of the same age, print them in the order of their input.\n\nFor Henry Davids, the output should be:\n\nMr. Henry Davids\nFor Mary George, the output should be:\n\nMs. Mary George\nInput Format\n\nThe first line contains the integer , the number of people.\n lines follow each containing the space separated values of the first name, last name, age and sex, respectively.\n\nConstraints\n\n\nOutput Format\n\nOutput  names on separate lines in the format described above in ascending order of age.\n\nSample Input\n\n3\nMike Thomson 20 M\nRobert Bustle 32 M\nAndria Bustle 30 F\nSample Output\n\nMr. Mike Thomson\nMs. Andria Bustle\nMr. Robert Bustle\nConcept\n\nFor sorting a nested list based on some parameter, you can use the itemgetter library. You can read more about it here.",
      "metadata": {}
    },
    {
      "cell_type": "code",
      "source": "import operator\n\ndef person_lister(f):\n    def inner(people):\n        # complete the function\n        people.sort(key=lambda x: int(x[2]))\n        return [f(person) for person in people]\n    return inner\n\n@person_lister\ndef name_format(person):\n    return (\"Mr. \" if person[3] == \"M\" else \"Ms. \") + person[0] + \" \" + person[1]\n\nif __name__ == '__main__':\n    people = [input().split() for i in range(int(input()))]\n    print(*name_format(people), sep='\\n')",
      "metadata": {},
      "execution_count": null,
      "outputs": []
    }
  ]
}