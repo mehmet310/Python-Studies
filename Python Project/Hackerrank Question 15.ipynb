{
  "metadata": {
    "language_info": {
      "codemirror_mode": {
        "name": "python",
        "version": 3
      },
      "file_extension": ".py",
      "mimetype": "text/x-python",
      "name": "python",
      "nbconvert_exporter": "python",
      "pygments_lexer": "ipython3",
      "version": "3.8"
    },
    "kernelspec": {
      "name": "python",
      "display_name": "Python (Pyodide)",
      "language": "python"
    }
  },
  "nbformat_minor": 4,
  "nbformat": 4,
  "cells": [
    {
      "cell_type": "markdown",
      "source": "- Question 15\n<br>\nConcatenate\n<br>\nTwo or more arrays can be concatenated together using the concatenate function with a tuple of the arrays to be joined:\n<br>\nimport numpy\n\narray_1 = numpy.array([1,2,3])\narray_2 = numpy.array([4,5,6])\narray_3 = numpy.array([7,8,9])\n\nprint numpy.concatenate((array_1, array_2, array_3))    \n\n#Output\n[1 2 3 4 5 6 7 8 9]\nIf an array has more than one dimension, it is possible to specify the axis along which multiple arrays are concatenated. By default, it is along the first dimension.\n<br>\nimport numpy\n\narray_1 = numpy.array([[1,2,3],[0,0,0]])\narray_2 = numpy.array([[0,0,0],[7,8,9]])\n\nprint numpy.concatenate((array_1, array_2), axis = 1)   \n<br>\n#Output\n[[1 2 3 0 0 0]\n [0 0 0 7 8 9]]    \n <br>\nTask\n\nYou are given two integer arrays of size X and X ( &  are rows, and  is the column). Your task is to concatenate the arrays along axis .\n<br>\nInput Format\n\nThe first line contains space separated integers ,  and .\nThe next  lines contains the space separated elements of the  columns.\nAfter that, the next  lines contains the space separated elements of the  columns.\n<br>\nOutput Format\n\nPrint the concatenated array of size X.\n\nSample Input\n\n4 3 2\n1 2\n1 2 \n1 2\n1 2\n3 4\n3 4\n3 4 \nSample Output\n\n[[1 2]\n [1 2]\n [1 2]\n [1 2]\n [3 4]\n [3 4]\n [3 4]] ",
      "metadata": {}
    },
    {
      "cell_type": "code",
      "source": "import numpy as np\n\nimport numpy\nn,m,p = list(map(int,input().split(\" \")))\narr =[]\narr1 =[]\nfor i in range(n):\n    arr.append(list(map(int,input().split())))\nfor j in range(m):\n    arr1.append(list(map(int,input().split())))\nnum  = numpy.array(arr)\nnum1 = numpy.array(arr1)\nprint(numpy.concatenate((num,num1)))",
      "metadata": {},
      "execution_count": null,
      "outputs": []
    }
  ]
}