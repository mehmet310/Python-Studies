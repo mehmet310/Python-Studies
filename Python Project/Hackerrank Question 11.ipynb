{
  "metadata": {
    "language_info": {
      "codemirror_mode": {
        "name": "python",
        "version": 3
      },
      "file_extension": ".py",
      "mimetype": "text/x-python",
      "name": "python",
      "nbconvert_exporter": "python",
      "pygments_lexer": "ipython3",
      "version": "3.8"
    },
    "kernelspec": {
      "name": "python",
      "display_name": "Python (Pyodide)",
      "language": "python"
    }
  },
  "nbformat_minor": 4,
  "nbformat": 4,
  "cells": [
    {
      "cell_type": "markdown",
      "source": "- Question 11\nTask\nGiven an integer, , and  space-separated integers as input, create a tuple, , of those  integers. Then compute and print the result of .\n\nNote: hash() is one of the functions in the __builtins__ module, so it need not be imported.\n\nInput Format\n\nThe first line contains an integer, , denoting the number of elements in the tuple.\nThe second line contains  space-separated integers describing the elements in tuple .\n\nOutput Format\n\nPrint the result of .\n\nSample Input 0\n\n2\n1 2\nSample Output 0\n\n3713081631934410656",
      "metadata": {}
    },
    {
      "cell_type": "code",
      "source": "if __name__ == '__main__':\n  n = int(input())\n  t = tuple(map(int, input().split()))\n  print(hash(t))",
      "metadata": {},
      "execution_count": null,
      "outputs": []
    }
  ]
}