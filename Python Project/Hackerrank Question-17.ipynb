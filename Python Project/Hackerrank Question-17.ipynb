{
  "metadata": {
    "language_info": {
      "codemirror_mode": {
        "name": "python",
        "version": 3
      },
      "file_extension": ".py",
      "mimetype": "text/x-python",
      "name": "python",
      "nbconvert_exporter": "python",
      "pygments_lexer": "ipython3",
      "version": "3.8"
    },
    "kernelspec": {
      "name": "python",
      "display_name": "Python (Pyodide)",
      "language": "python"
    }
  },
  "nbformat_minor": 4,
  "nbformat": 4,
  "cells": [
    {
      "cell_type": "markdown",
      "source": "- Question-17\n<br> \n\nsum\n\nThe sum tool returns the sum of array elements over a given axis.\n\n<br>\nimport numpy\n\nmy_array = numpy.array([ [1, 2], [3, 4] ])\n\nprint numpy.sum(my_array, axis = 0)         #Output : [4 6]\nprint numpy.sum(my_array, axis = 1)         #Output : [3 7]\nprint numpy.sum(my_array, axis = None)      #Output : 10\nprint numpy.sum(my_array)                   #Output : 10\nBy default, the axis value is None. Therefore, it performs a sum over all the dimensions of the input array.\n\nprod\n\n<br>\nThe prod tool returns the product of array elements over a given axis.\n\nimport numpy\n\nmy_array = numpy.array([ [1, 2], [3, 4] ])\n\nprint numpy.prod(my_array, axis = 0)            #Output : [3 8]\nprint numpy.prod(my_array, axis = 1)            #Output : [ 2 12]\nprint numpy.prod(my_array, axis = None)         #Output : 24\nprint numpy.prod(my_array)                      #Output : 24\nBy default, the axis value is None. Therefore, it performs the product over all the dimensions of the input array.\n\n<br>\nTask\n\nYou are given a 2-D array with dimensions X.\nYour task is to perform the  tool over axis  and then find the  of that result.\n\nInput Format\n\nThe first line of input contains space separated values of  and .\nThe next  lines contains  space separated integers.\n\n<br>\nOutput Format\n\nCompute the sum along axis . Then, print the product of that sum.\n\nSample Input\n\n2 2\n1 2\n3 4\nSample Output\n\n24",
      "metadata": {}
    },
    {
      "cell_type": "code",
      "source": "import numpy as np\n\nN,M = tuple(map(int, input().split()))\n\narray = []\nfor i in range(N):\n    array.append([int(i) for i in input().split()])\n    \ns = np.sum(array, axis = 0)\nprint(np.prod(s))",
      "metadata": {},
      "execution_count": null,
      "outputs": []
    }
  ]
}