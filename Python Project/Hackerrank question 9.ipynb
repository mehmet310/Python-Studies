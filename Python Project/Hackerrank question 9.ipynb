{
  "metadata": {
    "language_info": {
      "codemirror_mode": {
        "name": "python",
        "version": 3
      },
      "file_extension": ".py",
      "mimetype": "text/x-python",
      "name": "python",
      "nbconvert_exporter": "python",
      "pygments_lexer": "ipython3",
      "version": "3.8"
    },
    "kernelspec": {
      "name": "python",
      "display_name": "Python (Pyodide)",
      "language": "python"
    }
  },
  "nbformat_minor": 4,
  "nbformat": 4,
  "cells": [
    {
      "cell_type": "markdown",
      "source": "- Question 9\n<br>\n\n\nConsider a list (list = []). You can perform the following commands:\n<br>\ninsert i e: Insert integer  at position .\nprint: Print the list.\nremove e: Delete the first occurrence of integer .\nappend e: Insert integer  at the end of the list.\nsort: Sort the list.\npop: Pop the last element from the list.\nreverse: Reverse the list.\nInitialize your list and read in the value of  followed by  lines of commands where each command will be of the  types listed above. Iterate through each command in order and perform the corresponding operation on your list.\n\nExample\n\n\n<br>\n\n\n: Append  to the list, .\n: Append  to the list, .\n: Insert  at index , .\n: Print the array.\nOutput:\n[1, 3, 2]\nInput Format\n\nThe first line contains an integer, , denoting the number of commands.\nEach line  of the  subsequent lines contains one of the commands described above.\n<br>\nConstraints\n\nThe elements added to the list must be integers.\n<br>\nOutput Format\n\nFor each command of type print, print the list on a new line.\n<br>\nSample Input 0\n\n12\ninsert 0 5\ninsert 1 10\ninsert 0 6\nprint\nremove 6\nappend 9\nappend 1\nsort\nprint\npop\nreverse\nprint\n<br>\nSample Output 0\n\n[6, 5, 10]\n[1, 5, 9, 10]\n[9, 5, 1]",
      "metadata": {}
    },
    {
      "cell_type": "code",
      "source": "if __name__ == '__main__':\n    N = int(input())\n    mylist = list()\n    \n    for count in range(0,N):\n        \n        lists = input().split()\n        \n        if(lists[0]==\"print\"):\n            print(mylist)\n        elif(lists[0]==\"reverse\"):\n            mylist.reverse()\n        elif(lists[0]==\"pop\"):\n            mylist.pop()\n        elif(lists[0]==\"sort\"):\n            mylist.sort()\n        elif(lists[0]==\"append\"):\n            mylist.append(int(lists[1]))\n        elif(lists[0]==\"remove\"):\n            mylist.remove(int(lists[1]))\n        elif(lists[0]==\"insert\"):\n            mylist.insert(int(lists[1]),int(lists[2]))",
      "metadata": {},
      "execution_count": null,
      "outputs": []
    }
  ]
}