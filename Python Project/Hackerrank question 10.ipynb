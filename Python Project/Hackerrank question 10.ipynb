{
  "metadata": {
    "language_info": {
      "codemirror_mode": {
        "name": "python",
        "version": 3
      },
      "file_extension": ".py",
      "mimetype": "text/x-python",
      "name": "python",
      "nbconvert_exporter": "python",
      "pygments_lexer": "ipython3",
      "version": "3.8"
    },
    "kernelspec": {
      "name": "python",
      "display_name": "Python (Pyodide)",
      "language": "python"
    }
  },
  "nbformat_minor": 4,
  "nbformat": 4,
  "cells": [
    {
      "cell_type": "markdown",
      "source": "- Question 10\n<br>\nIf we want to add a single element to an existing set, we can use the .add() operation.\nIt adds the element to the set and returns 'None'.\n<br>\nExample\n\ns = set('HackerRank')\ns.add('H')\nprint s\nset(['a', 'c', 'e', 'H', 'k', 'n', 'r', 'R'])\nprint s.add('HackerRank')\nNone\nprint s\nset(['a', 'c', 'e', 'HackerRank', 'H', 'k', 'n', 'r', 'R'])\n\nTask\n\nApply your knowledge of the .add() operation to help your friend Rupal.\n\nRupal has a huge collection of country stamps. She decided to count the total number of distinct country stamps in her collection. She asked for your help. You pick the stamps one by one from a stack of  country stamps.\n\nFind the total number of distinct country stamps.\n<br>\nInput Format\n\nThe first line contains an integer , the total number of country stamps.\nThe next  lines contains the name of the country where the stamp is from.\n<br>\nConstraints\n\n\nOutput Format\n\nOutput the total number of distinct country stamps on a single line.\n\nSample Input\n\n7\nUK\nChina\nUSA\nFrance\nNew Zealand\nUK\nFrance \nSample Output\n\n5\nExplanation\n\nUK and France repeat twice. Hence, the total number of distinct country stamps is  (five).",
      "metadata": {}
    },
    {
      "cell_type": "code",
      "source": "s=set()\nfor i in range(int(input())):\n    s.add(input())\nprint(len(s))\n",
      "metadata": {},
      "execution_count": null,
      "outputs": []
    }
  ]
}