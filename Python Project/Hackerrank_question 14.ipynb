{
  "metadata": {
    "language_info": {
      "codemirror_mode": {
        "name": "python",
        "version": 3
      },
      "file_extension": ".py",
      "mimetype": "text/x-python",
      "name": "python",
      "nbconvert_exporter": "python",
      "pygments_lexer": "ipython3",
      "version": "3.8"
    },
    "kernelspec": {
      "name": "python",
      "display_name": "Python (Pyodide)",
      "language": "python"
    }
  },
  "nbformat_minor": 4,
  "nbformat": 4,
  "cells": [
    {
      "cell_type": "markdown",
      "source": "- Question-14\n<br>\nThe NumPy (Numeric Python) package helps us manipulate large arrays and matrices of numeric data.\n\nTo use the NumPy module, we need to import it using:\n<br>\nimport numpy\nArrays\n\nA NumPy array is a grid of values. They are similar to lists, except that every element of an array must be the same type.\n<br>\nimport numpy\n\na = numpy.array([1,2,3,4,5])\nprint a[1]          #2\n\nb = numpy.array([1,2,3,4,5],float)\nprint b[1]          #2.0\nIn the above example, numpy.array() is used to convert a list into a NumPy array. The second argument (float) can be used to set the type of array elements.\n\nTask\n\nYou are given a space separated list of numbers.\nYour task is to print a reversed NumPy array with the element type float.\n\nInput Format\n\nA single line of input containing space separated numbers.\n\nOutput Format\n\nPrint the reverse NumPy array with type float.\n\nSample Input\n\n1 2 3 4 -8 -10\nSample Output\n\n[-10.  -8.   4.   3.   2.   1.]",
      "metadata": {}
    },
    {
      "cell_type": "code",
      "source": "import numpy\n\ndef arrays(arr):\n    # complete this function\n    # use numpy.array\n    a=numpy.array(arr,dtype=\"float\")\n    \n    return a[::-1]\narr = input().strip().split(' ')\nresult = arrays(arr)\nprint(result)",
      "metadata": {},
      "execution_count": null,
      "outputs": []
    }
  ]
}