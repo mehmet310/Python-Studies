{
  "metadata": {
    "language_info": {
      "codemirror_mode": {
        "name": "python",
        "version": 3
      },
      "file_extension": ".py",
      "mimetype": "text/x-python",
      "name": "python",
      "nbconvert_exporter": "python",
      "pygments_lexer": "ipython3",
      "version": "3.8"
    },
    "kernelspec": {
      "name": "python",
      "display_name": "Python (Pyodide)",
      "language": "python"
    }
  },
  "nbformat_minor": 4,
  "nbformat": 4,
  "cells": [
    {
      "cell_type": "markdown",
      "source": "- Question 5\n\n<br>\n\ninput()\nIn Python 2, the expression input() is equivalent to eval(raw _input(prompt)).\n\nCode\n\ninput()  \n1+2\n<br>\n3\n<br>\n company = 'HackerRank'\nwebsite = 'www.hackerrank.com'\ninput()\n'The company name: '+company+' and website: '+website\n'The company name: HackerRank and website: www.hackerrank.com'\nTask\n\nYou are given a polynomial  of a single indeterminate (or variable), .\nYou are also given the values of  and . Your task is to verify if .\n\nConstraints\nAll coefficients of polynomial  are integers.\n and  are also integers.\n\nInput Format\n\nThe first line contains the space separated values of  and .\nThe second line contains the polynomial .\n\nOutput Format\n\nPrint True if . Otherwise, print False.\n\nSample Input\n\n1 4\n<br>\nx^3 + x^2 + x + 1\nSample Output\n\nTrue\nExplanation\n\n\nHence, the output is True.",
      "metadata": {}
    },
    {
      "cell_type": "code",
      "source": "x,k = map(int, input().split())\nprint(eval(input()) == k)",
      "metadata": {},
      "execution_count": null,
      "outputs": []
    }
  ]
}