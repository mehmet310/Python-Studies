{
  "metadata": {
    "language_info": {
      "codemirror_mode": {
        "name": "python",
        "version": 3
      },
      "file_extension": ".py",
      "mimetype": "text/x-python",
      "name": "python",
      "nbconvert_exporter": "python",
      "pygments_lexer": "ipython3",
      "version": "3.8"
    },
    "kernelspec": {
      "name": "python",
      "display_name": "Python (Pyodide)",
      "language": "python"
    }
  },
  "nbformat_minor": 4,
  "nbformat": 4,
  "cells": [
    {
      "cell_type": "markdown",
      "source": "- Question 2\n\nWe have seen that lists are mutable (they can be changed), and tuples are immutable (they cannot be changed).\n\nLet's try to understand this with an example.\n\nYou are given an immutable string, and you want to make changes to it.\n\nExample\n\nstring = \"abracadabra\"\nYou can access an index by:\n\nprint string[5]\na\nWhat if you would like to assign a value?\n\nstring[5] = 'k' \nTraceback (most recent call last):\n  File \"<stdin>\", line 1, in <module>\nTypeError: 'str' object does not support item assignment\nHow would you approach this?\n\nOne solution is to convert the string to a list and then change the value.\nExample\n\nstring = \"abracadabra\"\nl = list(string)\nl[5] = 'k'\nstring = ''.join(l)\nprint string\nabrackdabra\nAnother approach is to slice the string and join it back.\nExample\n\nstring = string[:5] + \"k\" + string[6:]\nprint string\nabrackdabra\nTask\nRead a given string, change the character at a given index and then print the modified string.\nFunction Description\n\nComplete the mutate_string function in the editor below.\n\nmutate_string has the following parameters:\n\nstring string: the string to change\nint position: the index to insert the character at\nstring character: the character to insert\nReturns\n\nstring: the altered string\nInput Format\n\nThe first line contains a string, .\nThe next line contains an integer , the index location and a string , separated by a space.\n\nSample Input\n\nSTDIN           Function\n-----           --------\nabracadabra     s = 'abracadabra'\n5 k             position = 5, character = 'k'\nSample Output\n\nabrackdabra",
      "metadata": {}
    },
    {
      "cell_type": "code",
      "source": "def mutate_string(string, position, character):\n    \n    return string[:position] + character + string[position+1:]\n\nif __name__ == '__main__':\n    s = input()\n    i, c = input().split()\n    s_new = mutate_string(s, int(i), c)\n    print(s_new)",
      "metadata": {},
      "execution_count": null,
      "outputs": []
    }
  ]
}