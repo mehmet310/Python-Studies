{
  "metadata": {
    "language_info": {
      "codemirror_mode": {
        "name": "python",
        "version": 3
      },
      "file_extension": ".py",
      "mimetype": "text/x-python",
      "name": "python",
      "nbconvert_exporter": "python",
      "pygments_lexer": "ipython3",
      "version": "3.8"
    },
    "kernelspec": {
      "name": "python",
      "display_name": "Python (Pyodide)",
      "language": "python"
    }
  },
  "nbformat_minor": 4,
  "nbformat": 4,
  "cells": [
    {
      "cell_type": "markdown",
      "source": "- Question 13\n<br>\n<br>\nLet's dive into decorators! You are given  mobile numbers. Sort them in ascending order then print them in the standard format shown below:\n\n\n+91 xxxxx xxxxx\n\nThe given mobile numbers may have ,  or  written before the actual  digit number. Alternatively, there may not be any prefix at all.\n\nInput Format\n\nThe first line of input contains an integer , the number of mobile phone numbers.\n lines follow each containing a mobile number.\n\nOutput Format\n\nPrint  mobile numbers on separate lines in the required format.\n\nSample Input\n\n3\n07895462130\n919875641230\n9195969878\nSample Output\n\n+91 78954 62130\n+91 91959 69878\n+91 98756 41230\nConcept\n\nLike most other programming languages, Python has the concept of closures. Extending these closures gives us decorators, which are an invaluable asset. You can learn about decorators in 12 easy steps here.\nTo solve the above question, make a list of the mobile numbers and pass it to a function that sorts the array in ascending order. Make a decorator that standardizes the mobile numbers and apply it to the function.",
      "metadata": {}
    },
    {
      "cell_type": "code",
      "source": "def wrapper(f):\n    def fun(l):\n        # complete the function\n        \n     fun = f([f'+91 {i[-10:-5]} {i[-5:]}' for i in l])\n    return fun\n\n@wrapper\ndef sort_phone(l):\n    print(*sorted(l), sep='\\n')\n\nif __name__ == '__main__':\n    l = [input() for _ in range(int(input()))]\n    sort_phone(l) ",
      "metadata": {},
      "execution_count": null,
      "outputs": []
    }
  ]
}