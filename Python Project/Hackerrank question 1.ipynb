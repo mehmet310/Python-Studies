{
  "metadata": {
    "language_info": {
      "codemirror_mode": {
        "name": "python",
        "version": 3
      },
      "file_extension": ".py",
      "mimetype": "text/x-python",
      "name": "python",
      "nbconvert_exporter": "python",
      "pygments_lexer": "ipython3",
      "version": "3.8"
    },
    "kernelspec": {
      "name": "python",
      "display_name": "Python (Pyodide)",
      "language": "python"
    }
  },
  "nbformat_minor": 4,
  "nbformat": 4,
  "cells": [
    {
      "cell_type": "markdown",
      "source": "- Question 1\n\nTask\nThe provided code stub reads two integers from STDIN,  and . Add code to print three lines where:\n\nThe first line contains the sum of the two numbers.\nThe second line contains the difference of the two numbers (first - second).\nThe third line contains the product of the two numbers.\nExample\n\n\nPrint the following:\n\n8\n-2\n15\nInput Format\n\nThe first line contains the first integer, .\nThe second line contains the second integer, .\n\nConstraints\n\n\n\nOutput Format\n\nPrint the three lines as explained above.\n\nSample Input 0\n\n3\n2\nSample Output 0\n\n5\n1\n6\nExplanation 0\n\n\n\n\n",
      "metadata": {}
    },
    {
      "cell_type": "code",
      "source": "if __name__ == '__main__':\n    a = int(input())\n    b = int(input())\n\nprint(a+b)\nprint(a-b)\nprint(a*b)\n",
      "metadata": {},
      "execution_count": null,
      "outputs": []
    }
  ]
}