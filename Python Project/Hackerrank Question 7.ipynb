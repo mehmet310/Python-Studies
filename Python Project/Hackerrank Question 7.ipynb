{
  "metadata": {
    "language_info": {
      "codemirror_mode": {
        "name": "python",
        "version": 3
      },
      "file_extension": ".py",
      "mimetype": "text/x-python",
      "name": "python",
      "nbconvert_exporter": "python",
      "pygments_lexer": "ipython3",
      "version": "3.8"
    },
    "kernelspec": {
      "name": "python",
      "display_name": "Python (Pyodide)",
      "language": "python"
    }
  },
  "nbformat_minor": 4,
  "nbformat": 4,
  "cells": [
    {
      "cell_type": "markdown",
      "source": "- Question 7\n\nTask\nGiven an integer, , perform the following conditional actions:\n\nIf  is odd, print Weird\nIf  is even and in the inclusive range of  to , print Not Weird\nIf  is even and in the inclusive range of  to , print Weird\nIf  is even and greater than , print Not Weird\nInput Format\n\nA single line containing a positive integer, .\n\nConstraints\n\nOutput Format\n\nPrint Weird if the number is weird. Otherwise, print Not Weird.\n\nSample Input 0\n\n3\nSample Output 0\n\nWeird\nExplanation 0\n\n\n is odd and odd numbers are weird, so print Weird.\n\nSample Input 1\n\n24\nSample Output 1\n\nNot Weird\nExplanation 1\n\n\n and  is even, so it is not weird.",
      "metadata": {}
    },
    {
      "cell_type": "code",
      "source": "#!/bin/python3\n\nimport math\nimport os\nimport random\nimport re\nimport sys\n\n\n\nif __name__ == '__main__':\n    n = int(input().strip())\n\nif n%2!=0:\n    print(\"Weird\")\nif n%2==0:\n if n>2 and n<5:\n    print(\"Not Weird\")\n elif n>6 and n<=20:\n    print(\"Weird\")\n else:\n    print(\"Not Weird\")",
      "metadata": {},
      "execution_count": null,
      "outputs": []
    }
  ]
}