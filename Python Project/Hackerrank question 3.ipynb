{
  "metadata": {
    "language_info": {
      "codemirror_mode": {
        "name": "python",
        "version": 3
      },
      "file_extension": ".py",
      "mimetype": "text/x-python",
      "name": "python",
      "nbconvert_exporter": "python",
      "pygments_lexer": "ipython3",
      "version": "3.8"
    },
    "kernelspec": {
      "name": "python",
      "display_name": "Python (Pyodide)",
      "language": "python"
    }
  },
  "nbformat_minor": 4,
  "nbformat": 4,
  "cells": [
    {
      "cell_type": "markdown",
      "source": "- Question\nIn Python, a string can be split on a delimiter.\n\nExample:\n\na = \"this is a string\"\na = a.split(\" \") # a is converted to a list of strings. \n print a\n['this', 'is', 'a', 'string']\nJoining a string is simple:\n\na = \"-\".join(a)\n print a\nthis-is-a-string \nTask\nYou are given a string. Split the string on a \" \" (space) delimiter and join using a - hyphen.\n\n\nFunction Description\n\nComplete the split_and_join function in the editor below.\n\nsplit_and_join has the following parameters:\n\nstring line: a string of space-separated words\nReturns\n\nstring: the resulting string\nInput Format\nThe one line contains a string consisting of space separated words.\n\nSample Input\n\nthis is a string   \nSample Output\n\nthis-is-a-string",
      "metadata": {}
    },
    {
      "cell_type": "code",
      "source": "def split_and_join(line):\n    # write your code here\n    line=line.split(\" \")\n    line=\"-\".join(line)\n    return line\n\nif __name__ == '__main__':\n    line = input()\n    result = split_and_join(line)\n    print(result)",
      "metadata": {},
      "execution_count": null,
      "outputs": []
    }
  ]
}