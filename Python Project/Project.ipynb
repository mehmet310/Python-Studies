{
  "metadata": {
    "language_info": {
      "codemirror_mode": {
        "name": "python",
        "version": 3
      },
      "file_extension": ".py",
      "mimetype": "text/x-python",
      "name": "python",
      "nbconvert_exporter": "python",
      "pygments_lexer": "ipython3",
      "version": "3.8"
    },
    "kernelspec": {
      "name": "python",
      "display_name": "Python (Pyodide)",
      "language": "python"
    }
  },
  "nbformat_minor": 4,
  "nbformat": 4,
  "cells": [
    {
      "cell_type": "markdown",
      "source": "- Question-1:\n1) Write a function that flattens a list. Its elements can consist of multi-layered lists (such as [[3],2]) or non-scalar data. For example:\n\ninput: [[1,'a',['cat'],2],[[[3]],'dog'],4,5]\n\noutput: [1,'a','cat',2,3,'dog',4,5]",
      "metadata": {}
    },
    {
      "cell_type": "code",
      "source": "list=[[1,'a',['cat'],2],[[[3]],'dog'],4,5]\nnewList=[]\n\ndef flattenOfList(n): #define a function\n     for i in n:\n        if isinstance(i,list): #check elements in list if true,return true else false.\n              flattenOfList(i)\n        else:\n              newList.append(i) #when false, add elements to new list\n            \nflattenOfList(list)\nprint(\"The flattened list : \",newList)\n",
      "metadata": {
        "tags": [],
        "trusted": true
      },
      "execution_count": 79,
      "outputs": [
        {
          "ename": "<class 'TypeError'>",
          "evalue": "isinstance() arg 2 must be a type, a tuple of types, or a union",
          "traceback": [
            "\u001b[0;31m---------------------------------------------------------------------------\u001b[0m",
            "\u001b[0;31mTypeError\u001b[0m                                 Traceback (most recent call last)",
            "Cell \u001b[0;32mIn [79], line 11\u001b[0m\n\u001b[1;32m      8\u001b[0m         \u001b[38;5;28;01melse\u001b[39;00m:\n\u001b[1;32m      9\u001b[0m               newList\u001b[38;5;241m.\u001b[39mappend(i) \u001b[38;5;66;03m#when false, add elements to new list\u001b[39;00m\n\u001b[0;32m---> 11\u001b[0m \u001b[43mflattenOfList\u001b[49m\u001b[43m(\u001b[49m\u001b[38;5;28;43mlist\u001b[39;49m\u001b[43m)\u001b[49m\n\u001b[1;32m     12\u001b[0m \u001b[38;5;28mprint\u001b[39m(\u001b[38;5;124m\"\u001b[39m\u001b[38;5;124mThe flattened list : \u001b[39m\u001b[38;5;124m\"\u001b[39m,newList)\n",
            "Cell \u001b[0;32mIn [79], line 6\u001b[0m, in \u001b[0;36mflattenOfList\u001b[0;34m(n)\u001b[0m\n\u001b[1;32m      4\u001b[0m \u001b[38;5;28;01mdef\u001b[39;00m \u001b[38;5;21mflattenOfList\u001b[39m(n): \u001b[38;5;66;03m#define a function\u001b[39;00m\n\u001b[1;32m      5\u001b[0m      \u001b[38;5;28;01mfor\u001b[39;00m i \u001b[38;5;129;01min\u001b[39;00m n:\n\u001b[0;32m----> 6\u001b[0m         \u001b[38;5;28;01mif\u001b[39;00m \u001b[38;5;28;43misinstance\u001b[39;49m\u001b[43m(\u001b[49m\u001b[43mi\u001b[49m\u001b[43m,\u001b[49m\u001b[38;5;28;43mlist\u001b[39;49m\u001b[43m)\u001b[49m: \u001b[38;5;66;03m#check elements in list if true,return true else false.\u001b[39;00m\n\u001b[1;32m      7\u001b[0m               flattenOfList(i)\n\u001b[1;32m      8\u001b[0m         \u001b[38;5;28;01melse\u001b[39;00m:\n",
            "\u001b[0;31mTypeError\u001b[0m: isinstance() arg 2 must be a type, a tuple of types, or a union"
          ],
          "output_type": "error"
        }
      ]
    },
    {
      "cell_type": "markdown",
      "source": "- Question-2:\n2) Write a function that reverses the elements inside the given list. If the elements inside the list also contain the list, reverse their elements as well. For example:\n\ninput: [[1, 2], [3, 4], [5, 6, 7]]\n\noutput: [[[7, 6, 5], [4, 3], [2, 1]]\n",
      "metadata": {
        "tags": []
      }
    },
    {
      "cell_type": "code",
      "source": "list=[[1,2],[3,4],[5,6,7]]\n\ndef reverseList(list):\n    for i in range(int(len(list))):\n        (list[i])=(list[i])[::-1] #reversed each elements in each lists\n        list=list[::-1] #reversed elements of list\n    return list\n\nprint(f\"Reversed function is: {reverseList(list)}\") #used f-string method",
      "metadata": {
        "trusted": true
      },
      "execution_count": 71,
      "outputs": [
        {
          "name": "stdout",
          "text": "Reversed function is: [[7, 6, 5], [4, 3], [2, 1]]\n",
          "output_type": "stream"
        }
      ]
    }
  ]
}