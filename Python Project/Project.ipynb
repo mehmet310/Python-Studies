{
  "metadata": {
    "language_info": {
      "codemirror_mode": {
        "name": "python",
        "version": 3
      },
      "file_extension": ".py",
      "mimetype": "text/x-python",
      "name": "python",
      "nbconvert_exporter": "python",
      "pygments_lexer": "ipython3",
      "version": "3.8"
    },
    "kernelspec": {
      "name": "python",
      "display_name": "Python (Pyodide)",
      "language": "python"
    }
  },
  "nbformat_minor": 4,
  "nbformat": 4,
  "cells": [
    {
      "cell_type": "markdown",
      "source": "- Question-1:\n1) Write a function that flattens a list. Its elements can consist of multi-layered lists (such as [[3],2]) or non-scalar data. For example:\n\ninput: [[1,'a',['cat'],2],[[[3]],'dog'],4,5]\n\noutput: [1,'a','cat',2,3,'dog',4,5]",
      "metadata": {}
    },
    {
      "cell_type": "code",
      "source": "list=[[1,'a',['cat'],2],[[[3]],'dog'],4,5]\nnewList=[]\n\ndef flattenOfList(n): #define a function\n     for i in n:\n        if isinstance(i,list): #check elements in list if true,return true else false.\n              flattenOfList(i)\n        else:\n              newList.append(i) #when false, add elements to new list\n            \nflattenOfList(list)\nprint(\"The flattened list : \",newList)",
      "metadata": {},
      "execution_count": null,
      "outputs": []
    },
    {
      "cell_type": "markdown",
      "source": "- Question-2:\n2) Write a function that reverses the elements inside the given list. If the elements inside the list also contain the list, reverse their elements as well. For example:\n\ninput: [[1, 2], [3, 4], [5, 6, 7]]\n\noutput: [[[7, 6, 5], [4, 3], [2, 1]]\n",
      "metadata": {
        "tags": []
      }
    },
    {
      "cell_type": "code",
      "source": "list=[[1,2],[3,4],[5,6,7]]\n\ndef reverseList(list):\n    for i in range(int(len(list))):\n        (list[i])=(list[i])[::-1] #reversed each elements in each lists\n        list=list[::-1] #reversed elements of list\n    return list\n\nprint(f\"Reversed function is: {reverseList(list)}\") #used f-string method",
      "metadata": {
        "trusted": true
      },
      "execution_count": 71,
      "outputs": [
        {
          "name": "stdout",
          "text": "Reversed function is: [[7, 6, 5], [4, 3], [2, 1]]\n",
          "output_type": "stream"
        }
      ]
    },
    {
      "cell_type": "markdown",
      "source": "",
      "metadata": {}
    }
  ]
}