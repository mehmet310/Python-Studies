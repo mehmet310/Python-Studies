{
  "metadata": {
    "language_info": {
      "codemirror_mode": {
        "name": "python",
        "version": 3
      },
      "file_extension": ".py",
      "mimetype": "text/x-python",
      "name": "python",
      "nbconvert_exporter": "python",
      "pygments_lexer": "ipython3",
      "version": "3.8"
    },
    "kernelspec": {
      "name": "python",
      "display_name": "Python (Pyodide)",
      "language": "python"
    }
  },
  "nbformat_minor": 4,
  "nbformat": 4,
  "cells": [
    {
      "cell_type": "markdown",
      "source": "- Question 4\nIn this challenge, the user enters a string and a substring. You have to print the number of times that the substring occurs in the given string. String traversal will take place from left to right, not from right to left.\n\nNOTE: String letters are case-sensitive.\n\nInput Format\n\nThe first line of input contains the original string. The next line contains the substring.\n\nConstraints\n\n\nEach character in the string is an ascii character.\n\nOutput Format\n\nOutput the integer number indicating the total number of occurrences of the substring in the original string.\n\nSample Input\n\nABCDCDC\nCDC\nSample Output\n\n2\nConcept\n\nSome string processing examples, such as these, might be useful.\nThere are a couple of new concepts:\nIn Python, the length of a string is found by the function len(s), where  is the string.\nTo traverse through the length of a string, use a for loop:\n\nfor i in range(0, len(s)):\n    print (s[i])\nA range function is used to loop over some length:\n\nrange (0, 5)",
      "metadata": {}
    },
    {
      "cell_type": "code",
      "source": "def count_substring(string, sub_string):\n  \n    count=string.find(sub_string)\n    sayac=0\n    \n    while count!=-1:\n        sayac+=1\n        count=string.find(sub_string,count+1)\n  \n    return sayac\n\nif __name__ == '__main__':\n    string = input().strip()\n    sub_string = input().strip()\n    \n    count = count_substring(string, sub_string)\n    print(count)",
      "metadata": {},
      "execution_count": null,
      "outputs": []
    }
  ]
}