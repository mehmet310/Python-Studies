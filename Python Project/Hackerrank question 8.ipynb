{
  "metadata": {
    "language_info": {
      "codemirror_mode": {
        "name": "python",
        "version": 3
      },
      "file_extension": ".py",
      "mimetype": "text/x-python",
      "name": "python",
      "nbconvert_exporter": "python",
      "pygments_lexer": "ipython3",
      "version": "3.8"
    },
    "kernelspec": {
      "name": "python",
      "display_name": "Python (Pyodide)",
      "language": "python"
    }
  },
  "nbformat_minor": 4,
  "nbformat": 4,
  "cells": [
    {
      "cell_type": "markdown",
      "source": "- Question 8\n<br>\nTask\nThe provided code stub reads and integer, , from STDIN. For all non-negative integers , print .\n<br>\nExample\n\nThe list of non-negative integers that are less than  is . Print the square of each number on a separate line.\n\n0\n1\n4\nInput Format\n\nThe first and only line contains the integer, .\n\nConstraints\n\n\nOutput Format\n\nPrint  lines, one corresponding to each .\n\nSample Input 0\n\n5\nSample Output 0\n\n0\n1\n4\n9\n16",
      "metadata": {}
    },
    {
      "cell_type": "code",
      "source": "if __name__ == '__main__':\n    n = int(input())\n\n# x=[c*c for c in range(0,n)] # list compherision method\nfor c in range(0,n):\n    print(pow(c,2))\n",
      "metadata": {},
      "execution_count": null,
      "outputs": []
    }
  ]
}